{
 "cells": [
  {
   "cell_type": "code",
   "execution_count": 2,
   "metadata": {},
   "outputs": [],
   "source": [
    "%matplotlib inline\n",
    "import pytry\n",
    "import matplotlib.pyplot as plot\n",
    "import seaborn\n",
    "import pandas\n",
    "import numpy as np"
   ]
  },
  {
   "cell_type": "code",
   "execution_count": 3,
   "metadata": {},
   "outputs": [],
   "source": [
    "data = pytry.read('exp2_reg')\n",
    "data2 = []\n",
    "for d in data:\n",
    "    d2 = dict(d)\n",
    "    d2['mode'] = 'test'\n",
    "    d2['rmse'] = d['rmse_test']\n",
    "    del d2['rmse_test']\n",
    "    del d2['rmse_train']    \n",
    "    data2.append(d2)\n",
    "\n",
    "    d2 = dict(d)\n",
    "    d2['mode'] = 'train'\n",
    "    d2['rmse'] = d['rmse_train']\n",
    "    del d2['rmse_test']\n",
    "    del d2['rmse_train']    \n",
    "    data2.append(d2)\n",
    "df = pandas.DataFrame(data2)\n",
    "    "
   ]
  },
  {
   "cell_type": "code",
   "execution_count": 6,
   "metadata": {
    "scrolled": true
   },
   "outputs": [
    {
     "data": {
      "text/plain": [
       "<matplotlib.axes._subplots.AxesSubplot at 0x7fc8119dfe80>"
      ]
     },
     "execution_count": 6,
     "metadata": {},
     "output_type": "execute_result"
    },
    {
     "data": {
      "image/png": "[encoded data removed]",
      "text/plain": [
       "<Figure size 432x288 with 1 Axes>"
      ]
     },
     "metadata": {
      "needs_background": "light"
     },
     "output_type": "display_data"
    }
   ],
   "source": [
    "seaborn.barplot('reg', 'rmse', hue='mode', hue_order=['train', 'test'], data=df, estimator=np.mean)"
   ]
  },
  {
   "cell_type": "code",
   "execution_count": 10,
   "metadata": {},
   "outputs": [
    {
     "data": {
      "text/plain": [
       "{'dataset_dir': '../davis_io/data',\n",
       " 'decay_time': 0.01,\n",
       " 'dt': 0.1,\n",
       " 'enhance_training': True,\n",
       " 'gabor_size': 11,\n",
       " 'keep_invalid': False,\n",
       " 'n_data': -1,\n",
       " 'n_neurons': 20000,\n",
       " 'reg': 0.03,\n",
       " 'rmse_test': 46.188952316531875,\n",
       " 'rmse_train': 33.96306215228483,\n",
       " 'seed': 19,\n",
       " 'task': 'location',\n",
       " 'test_set': 'one'}"
      ]
     },
     "execution_count": 10,
     "metadata": {},
     "output_type": "execute_result"
    }
   ],
   "source": [
    "d"
   ]
  },
  {
   "cell_type": "code",
   "execution_count": null,
   "metadata": {
    "collapsed": true
   },
   "outputs": [],
   "source": []
  }
 ],
 "metadata": {
  "kernelspec": {
   "display_name": "Python 3",
   "language": "python",
   "name": "python3"
  },
  "language_info": {
   "codemirror_mode": {
    "name": "ipython",
    "version": 3
   },
   "file_extension": ".py",
   "mimetype": "text/x-python",
   "name": "python",
   "nbconvert_exporter": "python",
   "pygments_lexer": "ipython3",
   "version": "3.6.7"
  }
 },
 "nbformat": 4,
 "nbformat_minor": 2
}
