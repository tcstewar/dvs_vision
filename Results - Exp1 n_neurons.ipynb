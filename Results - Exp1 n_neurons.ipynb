{
 "cells": [
  {
   "cell_type": "code",
   "execution_count": 1,
   "metadata": {},
   "outputs": [
    {
     "name": "stderr",
     "output_type": "stream",
     "text": [
      "c:\\users\\terry\\py3\\lib\\site-packages\\IPython\\html.py:14: ShimWarning: The `IPython.html` package has been deprecated since IPython 4.0. You should import from `notebook` instead. `IPython.html.widgets` has moved to `ipywidgets`.\n",
      "  \"`IPython.html.widgets` has moved to `ipywidgets`.\", ShimWarning)\n"
     ]
    }
   ],
   "source": [
    "%matplotlib inline\n",
    "import pytry\n",
    "import matplotlib.pyplot as plot\n",
    "import seaborn\n",
    "import pandas\n",
    "import numpy as np"
   ]
  },
  {
   "cell_type": "code",
   "execution_count": 5,
   "metadata": {
    "collapsed": true
   },
   "outputs": [],
   "source": [
    "data = pytry.read('exp1_n_neurons')\n",
    "data2 = []\n",
    "for d in data:\n",
    "    d2 = dict(d)\n",
    "    d2['mode'] = 'test'\n",
    "    d2['rmse'] = d['rmse_test']\n",
    "    del d2['rmse_test']\n",
    "    del d2['rmse_train']    \n",
    "    data2.append(d2)\n",
    "\n",
    "    d2 = dict(d)\n",
    "    d2['mode'] = 'train'\n",
    "    d2['rmse'] = d['rmse_train']\n",
    "    del d2['rmse_test']\n",
    "    del d2['rmse_train']    \n",
    "    data2.append(d2)\n",
    "df = pandas.DataFrame(data2)\n",
    "    "
   ]
  },
  {
   "cell_type": "code",
   "execution_count": 9,
   "metadata": {
    "scrolled": true
   },
   "outputs": [
    {
     "name": "stderr",
     "output_type": "stream",
     "text": [
      "c:\\users\\terry\\py3\\lib\\site-packages\\scipy\\stats\\stats.py:1713: FutureWarning: Using a non-tuple sequence for multidimensional indexing is deprecated; use `arr[tuple(seq)]` instead of `arr[seq]`. In the future this will be interpreted as an array index, `arr[np.array(seq)]`, which will result either in an error or a different result.\n",
      "  return np.add.reduce(sorted[indexer] * weights, axis=axis) / sumval\n"
     ]
    },
    {
     "data": {
      "text/plain": [
       "<matplotlib.axes._subplots.AxesSubplot at 0x16d3d20d710>"
      ]
     },
     "execution_count": 9,
     "metadata": {},
     "output_type": "execute_result"
    },
    {
     "data": {
      "image/png": "[encoded data removed]",
      "text/plain": [
       "<Figure size 576x396 with 1 Axes>"
      ]
     },
     "metadata": {},
     "output_type": "display_data"
    }
   ],
   "source": [
    "seaborn.barplot('n_neurons', 'rmse', hue='mode', data=df, estimator=np.mean)"
   ]
  },
  {
   "cell_type": "code",
   "execution_count": 10,
   "metadata": {},
   "outputs": [
    {
     "data": {
      "text/plain": [
       "{'dataset_dir': '../davis_io/data',\n",
       " 'decay_time': 0.01,\n",
       " 'dt': 0.1,\n",
       " 'enhance_training': True,\n",
       " 'gabor_size': 11,\n",
       " 'keep_invalid': False,\n",
       " 'n_data': -1,\n",
       " 'n_neurons': 20000,\n",
       " 'reg': 0.03,\n",
       " 'rmse_test': 46.188952316531875,\n",
       " 'rmse_train': 33.96306215228483,\n",
       " 'seed': 19,\n",
       " 'task': 'location',\n",
       " 'test_set': 'one'}"
      ]
     },
     "execution_count": 10,
     "metadata": {},
     "output_type": "execute_result"
    }
   ],
   "source": [
    "d"
   ]
  },
  {
   "cell_type": "code",
   "execution_count": null,
   "metadata": {
    "collapsed": true
   },
   "outputs": [],
   "source": []
  }
 ],
 "metadata": {
  "kernelspec": {
   "display_name": "Python 3",
   "language": "python",
   "name": "python3"
  },
  "language_info": {
   "codemirror_mode": {
    "name": "ipython",
    "version": 3
   },
   "file_extension": ".py",
   "mimetype": "text/x-python",
   "name": "python",
   "nbconvert_exporter": "python",
   "pygments_lexer": "ipython3",
   "version": "3.6.1"
  }
 },
 "nbformat": 4,
 "nbformat_minor": 2
}
