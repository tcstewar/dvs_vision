{
 "cells": [
  {
   "cell_type": "code",
   "execution_count": 1,
   "metadata": {},
   "outputs": [],
   "source": [
    "%matplotlib inline\n",
    "import matplotlib.pyplot as plt\n",
    "import numpy as np\n",
    "import sys\n",
    "import os\n",
    "import traceback"
   ]
  },
  {
   "cell_type": "markdown",
   "metadata": {},
   "source": [
    "Helper functions for handling the interpolation of the ground truth"
   ]
  },
  {
   "cell_type": "code",
   "execution_count": 2,
   "metadata": {},
   "outputs": [],
   "source": [
    "class Trace(object):\n",
    "    def __init__(self, params):\n",
    "        self.times = []\n",
    "        self.params = {}\n",
    "        for p in params:\n",
    "            self.params[p] = []\n",
    "    def frame(self, t, **params):\n",
    "        self.times.append(t)\n",
    "        for p in self.params.keys():\n",
    "            if p not in params:\n",
    "                self.params[p].append(self.params[p][-1])\n",
    "            else:\n",
    "                self.params[p].append(params[p])\n",
    "\n",
    "    def get(self, t, p):\n",
    "        if t < self.times[0]:\n",
    "            return None\n",
    "        elif t > self.times[-1]:\n",
    "            return None\n",
    "        else:\n",
    "            return np.interp([t], self.times, self.params[p])[0]\n",
    "\n",
    "\n",
    "def load_trace(fn):\n",
    "    if not os.path.isfile(fn):\n",
    "        return None\n",
    "    else:\n",
    "        with open(fn) as f:\n",
    "            code = f.read()\n",
    "        locals = dict()\n",
    "        globals = dict(Trace=Trace)\n",
    "        try:\n",
    "            exec(code, globals, locals)\n",
    "        except:\n",
    "            traceback.print_exc()\n",
    "            return None\n",
    "        for k, v in locals.items():\n",
    "            if isinstance(v, Trace):\n",
    "                return v\n",
    "        else:\n",
    "            return None\n"
   ]
  },
  {
   "cell_type": "markdown",
   "metadata": {},
   "source": [
    "Load in a data file and turn it into a big list of images and ground truth data"
   ]
  },
  {
   "cell_type": "code",
   "execution_count": 114,
   "metadata": {},
   "outputs": [],
   "source": [
    "def extract_targets(filename, dt, t_start=None, t_end=None):\n",
    "    trace = load_trace(filename+'.label')\n",
    "    if t_end is None:        \n",
    "        t_end = trace.times[-1] if trace is not None and len(trace.times)>0 else -1\n",
    "    if t_start is None:\n",
    "        t_start = 0\n",
    "        \n",
    "    times = []\n",
    "    targets = []\n",
    "    now = t_start\n",
    "    while now < t_end:\n",
    "        xx = trace.get(now, 'x')\n",
    "        yy = trace.get(now, 'y')\n",
    "        rr = trace.get(now, 'r')\n",
    "        valid = 1 if xx is not None else 0\n",
    "        if xx is None:\n",
    "            xx = -1\n",
    "        if yy is None:\n",
    "            yy = -1\n",
    "        if rr is None:\n",
    "            rr = -1\n",
    "\n",
    "        now += dt\n",
    "\n",
    "        targets.append([xx, yy, rr, valid])\n",
    "        times.append(now)\n",
    "\n",
    "    targets = np.array(targets).reshape(-1, 4)\n",
    "    times = np.array(times)\n",
    "    \n",
    "    return times, targets\n",
    "        \n",
    "    "
   ]
  },
  {
   "cell_type": "code",
   "execution_count": 115,
   "metadata": {},
   "outputs": [],
   "source": [
    "def extract_images(filename,        # filename to load data from \n",
    "                   dt,              # time between images to create (seconds)\n",
    "                   decay_time=0.1,  # spike decay time (seconds)\n",
    "                   t_start=None,    # time to start generating images (seconds)\n",
    "                   t_end=None       # time to end generating images (seconds)\n",
    "                  ):\n",
    "    packet_size = 8\n",
    "\n",
    "    with open(filename, 'rb') as f:\n",
    "        data = f.read()\n",
    "    data = np.fromstring(data, np.uint8)\n",
    "\n",
    "    # find x and y values for events\n",
    "    y = ((data[1::packet_size].astype('uint16')<<8) + data[::packet_size]) >> 2\n",
    "    x = ((data[3::packet_size].astype('uint16')<<8) + data[2::packet_size]) >> 1\n",
    "    # get the polarity (+1 for on events, -1 for off events)\n",
    "    p = np.where((data[::packet_size] & 0x02) == 0x02, 1, -1)\n",
    "    v = np.where((data[::packet_size] & 0x01) == 0x01, 1, -1)\n",
    "    # find the time stamp for each event, in seconds from the start of the file\n",
    "    t = data[7::packet_size].astype(np.uint32)\n",
    "    t = (t << 8) + data[6::packet_size]\n",
    "    t = (t << 8) + data[5::packet_size]\n",
    "    t = (t << 8) + data[4::packet_size]\n",
    "    #t = t - t[0]\n",
    "    t = t.astype(float) / 1000000   # convert microseconds to seconds\n",
    "\n",
    "    if t_start is None:\n",
    "        t_start = 0\n",
    "    if t_end is None:\n",
    "        t_end = t[-1]\n",
    "\n",
    "    image = np.zeros((180, 240), dtype=float)\n",
    "\n",
    "    images = []\n",
    "    targets = []\n",
    "    times = []\n",
    "\n",
    "    event_index = 0   # for keeping track of where we are in the file\n",
    "    if t_start > 0:\n",
    "        event_index = np.searchsorted(t, t_start)\n",
    "\n",
    "    now = t_start\n",
    "\n",
    "    event_dt = dt\n",
    "\n",
    "    while now < t_end:\n",
    "        if event_dt != 0:\n",
    "            decay_scale = 1-np.abs(event_dt)/(np.abs(event_dt)+decay_time)\n",
    "            image *= decay_scale\n",
    "\n",
    "        if event_dt > 0:\n",
    "            count = np.searchsorted(t[event_index:], now + event_dt)\n",
    "            s = slice(event_index, event_index+count)\n",
    "\n",
    "            dts = event_dt-(t[s]-now)\n",
    "            image[y[s], x[s]] += p[s] * (1-dts / (dts+decay_time))\n",
    "            event_index += count\n",
    "\n",
    "        now += event_dt\n",
    "\n",
    "        images.append(image.copy())\n",
    "        times.append(now)\n",
    "\n",
    "    images = np.array(images)\n",
    "    times = np.array(times)\n",
    "    \n",
    "    return times, images\n",
    "\n"
   ]
  },
  {
   "cell_type": "markdown",
   "metadata": {},
   "source": [
    "Let's look at the target data"
   ]
  },
  {
   "cell_type": "code",
   "execution_count": 116,
   "metadata": {},
   "outputs": [],
   "source": [
    "import pytry\n",
    "import os\n",
    "import random\n",
    "import nengo\n",
    "import nengo_extras\n",
    "\n",
    "class TrackingTrial(pytry.PlotTrial):\n",
    "    def params(self):\n",
    "        self.param('number of data sets to use', n_data=10)\n",
    "        self.param('data directory', dataset_dir=r'../davis_io/data')\n",
    "        self.param('keep invalid frames (ones with no ball)', keep_invalid=True)\n",
    "        self.param('task (valid|location)', task='valid')\n",
    "        self.param('dt', dt=0.01)\n",
    "        self.param('decay time (input synapse)', decay_time=0.01)\n",
    "        self.param('number of neurons', n_neurons=100)\n",
    "        self.param('gabor size', gabor_size=11)\n",
    "        self.param('solver regularization', reg=0.03)\n",
    "        self.param('test on odd entries', test_on_odd=True)\n",
    "        \n",
    "    def evaluate(self, p, plt):\n",
    "        files = []\n",
    "        sets = []\n",
    "        for f in os.listdir(p.dataset_dir):\n",
    "            if f.endswith('events'):\n",
    "                files.append(f)\n",
    "        for f in random.sample(files, p.n_data):\n",
    "            times, targets = extract_targets(os.path.join(p.dataset_dir, f),\n",
    "                                     dt=p.dt,\n",
    "                                     )\n",
    "            sets.append([f, times, targets])\n",
    "            \n",
    "        if p.keep_invalid:\n",
    "            for s in sets:\n",
    "                times, images = extract_images(os.path.join(p.dataset_dir, s[0]),\n",
    "                                     dt=p.dt, decay_time=p.decay_time,\n",
    "                                     )\n",
    "                extra_targets = np.tile([[-1, -1, -1, 0]], (len(times)-len(s[1]),1))\n",
    "                s[2] = np.vstack([s[2], extra_targets])\n",
    "                s.append(images)\n",
    "        \n",
    "        inputs = []\n",
    "        targets = []\n",
    "        if p.task == 'valid':\n",
    "            for f, times, targ, images in sets:\n",
    "                inputs.append(images)\n",
    "                targets.append(targ[:,3:])\n",
    "                \n",
    "        inputs = np.vstack(inputs)\n",
    "        targets = np.vstack(targets)\n",
    "        \n",
    "        if p.test_on_odd:\n",
    "            slice_train = slice(None, None, 2)\n",
    "            slice_test = slice(1, None, 2)\n",
    "        else:\n",
    "            slice_train = slice(None, len(inputs)//2)\n",
    "            slice_test = slice(len(inputs)//2, None)\n",
    "            \n",
    "        \n",
    "        \n",
    "        dimensions = 240*180\n",
    "        eval_points = inputs.reshape(-1, dimensions)\n",
    "\n",
    "        model = nengo.Network()\n",
    "        with model:\n",
    "            from nengo_extras.vision import Gabor, Mask\n",
    "            encoders = Gabor().generate(p.n_neurons, (p.gabor_size, p.gabor_size))\n",
    "            encoders = Mask((240, 180)).populate(encoders, flatten=True)\n",
    "\n",
    "            ens = nengo.Ensemble(n_neurons=p.n_neurons, dimensions=dimensions,\n",
    "                                 encoders=encoders,\n",
    "                                 intercepts=nengo.dists.CosineSimilarity(dimensions+2))\n",
    "\n",
    "            result = nengo.Node(None, size_in=targets.shape[1])\n",
    "\n",
    "            c = nengo.Connection(ens, result, \n",
    "                                 eval_points=eval_points[slice_train],\n",
    "                                 function=targets[slice_train],\n",
    "                                 solver=nengo.solvers.LstsqL2(reg=p.reg),\n",
    "                                 )\n",
    "        sim = nengo.Simulator(model)\n",
    "        \n",
    "        error_train = sim.data[c].solver_info['rmses']\n",
    "\n",
    "        _, a = nengo.utils.ensemble.tuning_curves(ens, sim, inputs=eval_points)    \n",
    "        outputs = np.dot(a, sim.data[c].weights.T)       \n",
    "        rmse_train = np.sqrt(np.mean((targets[slice_train]-outputs[slice_train])**2))\n",
    "        rmse_test = np.sqrt(np.mean((targets[slice_test]-outputs[slice_test])**2))\n",
    "        \n",
    "        \n",
    "        if plt:\n",
    "            plt.subplot(1, 2, 1)\n",
    "            plt.plot(targets[slice_train])\n",
    "            plt.plot(outputs[slice_train])\n",
    "            plt.title('train\\nrmse=%1.4f' % rmse_train)\n",
    "            \n",
    "            plt.subplot(1, 2, 2)\n",
    "            plt.plot(targets[slice_test])\n",
    "            plt.plot(outputs[slice_test])\n",
    "            plt.title('test\\nrmse=%1.4f' % rmse_test)\n",
    "            \n",
    "        \n",
    "        \n",
    "        return dict(\n",
    "            #error_train=error_train,\n",
    "            rmse_train=rmse_train,\n",
    "            rmse_test=rmse_test,\n",
    "        )\n",
    "        \n",
    "        \n",
    "        \n",
    "            \n",
    "            \n",
    "        \n",
    "        "
   ]
  },
  {
   "cell_type": "code",
   "execution_count": 117,
   "metadata": {},
   "outputs": [
    {
     "name": "stdout",
     "output_type": "stream",
     "text": [
      "running TrackingTrial#20190424-164409-5cd6f1e7\n"
     ]
    },
    {
     "name": "stderr",
     "output_type": "stream",
     "text": [
      "/home/tcstewar/py3/lib/python3.6/site-packages/ipykernel_launcher.py:11: DeprecationWarning: The binary mode of fromstring is deprecated, as it behaves surprisingly on unicode inputs. Use frombuffer instead\n",
      "  # This is added back by InteractiveShellApp.init_path()\n"
     ]
    },
    {
     "name": "stdout",
     "output_type": "stream",
     "text": [
      "retinaTest43.events (103, 4) (97, 4)\n",
      "retinaTest12.events (21, 4) (29, 4)\n",
      "retinaTest45.events (136, 4) (32, 4)\n",
      "retinaTest44.events (129, 4) (35, 4)\n",
      "retinaTest86.events (17, 4) (20, 4)\n",
      "retinaTest80.events (106, 4) (26, 4)\n",
      "retinaTest51.events (25, 4) (17, 4)\n",
      "retinaTest11.events (22, 4) (18, 4)\n",
      "retinaTest101.events (20, 4) (16, 4)\n",
      "retinaTest37.events (28, 4) (16, 4)\n",
      "retinaTest90.events (29, 4) (16, 4)\n",
      "retinaTest65.events (27, 4) (25, 4)\n",
      "retinaTest95.events (31, 4) (11, 4)\n",
      "retinaTest99.events (22, 4) (14, 4)\n",
      "retinaTest19.events (26, 4) (21, 4)\n",
      "retinaTest89.events (42, 4) (22, 4)\n",
      "retinaTest24.events (30, 4) (29, 4)\n",
      "retinaTest64.events (34, 4) (33, 4)\n",
      "retinaTest20.events (28, 4) (28, 4)\n",
      "retinaTest18.events (10, 4) (16, 4)\n",
      "retinaTest3.events (39, 4) (8, 4)\n",
      "retinaTest1.events (64, 4) (13, 4)\n",
      "retinaTest13.events (20, 4) (1, 4)\n",
      "retinaTest9.events (28, 4) (14, 4)\n",
      "retinaTest48.events (171, 4) (44, 4)\n",
      "retinaTest57.events (25, 4) (29, 4)\n",
      "retinaTest98.events (18, 4) (29, 4)\n",
      "retinaTest50.events (39, 4) (25, 4)\n",
      "retinaTest35.events (31, 4) (16, 4)\n",
      "retinaTest81.events (68, 4) (13, 4)\n",
      "retinaTest82.events (75, 4) (17, 4)\n",
      "retinaTest30.events (31, 4) (17, 4)\n",
      "retinaTest8.events (0, 4) (41, 4)\n",
      "retinaTest68.events (32, 4) (19, 4)\n",
      "retinaTest58.events (27, 4) (17, 4)\n",
      "retinaTest21.events (25, 4) (14, 4)\n",
      "retinaTest79.events (96, 4) (9, 4)\n",
      "retinaTest26.events (15, 4) (16, 4)\n",
      "retinaTest85.events (101, 4) (2, 4)\n",
      "retinaTest52.events (36, 4) (12, 4)\n",
      "retinaTest96.events (24, 4) (19, 4)\n",
      "retinaTest84.events (75, 4) (36, 4)\n",
      "retinaTest46.events (133, 4) (25, 4)\n",
      "retinaTest67.events (31, 4) (21, 4)\n",
      "retinaTest41.events (56, 4) (144, 4)\n",
      "retinaTest32.events (18, 4) (26, 4)\n",
      "retinaTest87.events (47, 4) (40, 4)\n",
      "retinaTest53.events (51, 4) (15, 4)\n",
      "retinaTest62.events (48, 4) (14, 4)\n",
      "retinaTest47.events (111, 4) (360, 4)\n"
     ]
    },
    {
     "data": {
      "application/vdom.v1+json": {
       "attributes": {},
       "tagName": "div"
      },
      "text/html": [
       "\n",
       "                <script>\n",
       "                    if (Jupyter.version.split(\".\")[0] < 5) {\n",
       "                        var pb = document.getElementById(\"2c0489db-eb85-423d-a8db-f58fce7964fa\");\n",
       "                        var text = document.createTextNode(\n",
       "                            \"HMTL progress bar requires Jupyter Notebook >= \" +\n",
       "                            \"5.0 or Jupyter Lab. Alternatively, you can use \" +\n",
       "                            \"TerminalProgressBar().\");\n",
       "                        pb.parentNode.insertBefore(text, pb);\n",
       "                    }\n",
       "                </script>\n",
       "                <div id=\"2c0489db-eb85-423d-a8db-f58fce7964fa\" style=\"\n",
       "                    width: 100%;\n",
       "                    border: 1px solid #cfcfcf;\n",
       "                    border-radius: 4px;\n",
       "                    text-align: center;\n",
       "                    position: relative;\">\n",
       "                  <div class=\"pb-text\" style=\"\n",
       "                      position: absolute;\n",
       "                      width: 100%;\">\n",
       "                    0%\n",
       "                  </div>\n",
       "                  <div class=\"pb-fill\" style=\"\n",
       "                      background-color: #bdd2e6;\n",
       "                      width: 0%;\">\n",
       "                    <style type=\"text/css\" scoped=\"scoped\">\n",
       "                        @keyframes pb-fill-anim {\n",
       "                            0% { background-position: 0 0; }\n",
       "                            100% { background-position: 100px 0; }\n",
       "                        }\n",
       "                    </style>\n",
       "                    &nbsp;\n",
       "                  </div>\n",
       "                </div>"
      ],
      "text/plain": [
       "HtmlProgressBar cannot be displayed. Please use the TerminalProgressBar. It can be enabled with `nengo.rc.set('progress', 'progress_bar', 'nengo.utils.progress.TerminalProgressBar')`."
      ]
     },
     "metadata": {},
     "output_type": "display_data"
    },
    {
     "data": {
      "application/javascript": [
       "\n",
       "              (function () {\n",
       "                  var root = document.getElementById('2c0489db-eb85-423d-a8db-f58fce7964fa');\n",
       "                  var text = root.getElementsByClassName('pb-text')[0];\n",
       "                  var fill = root.getElementsByClassName('pb-fill')[0];\n",
       "\n",
       "                  text.innerHTML = 'Build finished in 0:00:17.';\n",
       "                  \n",
       "            fill.style.width = '100%';\n",
       "            fill.style.animation = 'pb-fill-anim 2s linear infinite';\n",
       "            fill.style.backgroundSize = '100px 100%';\n",
       "            fill.style.backgroundImage = 'repeating-linear-gradient(' +\n",
       "                '90deg, #bdd2e6, #edf2f8 40%, #bdd2e6 80%, #bdd2e6)';\n",
       "        \n",
       "                  \n",
       "                fill.style.animation = 'none';\n",
       "                fill.style.backgroundImage = 'none';\n",
       "            \n",
       "              })();\n",
       "        "
      ],
      "application/vdom.v1+json": {
       "attributes": {
        "id": "d3fdf68f-7005-4a81-8855-f567fb212fa1",
        "style": {
         "border": "1px solid #cfcfcf",
         "borderRadius": "4px",
         "boxSizing": "border-box",
         "position": "relative",
         "textAlign": "center",
         "width": "100%"
        }
       },
       "children": [
        {
         "attributes": {
          "class": "pb-text",
          "style": {
           "position": "absolute",
           "width": "100%"
          }
         },
         "children": [
          "Build finished in 0:00:17."
         ],
         "tagName": "div"
        },
        {
         "attributes": {
          "class": "pb-fill",
          "style": {
           "animation": "none",
           "backgroundColor": "#bdd2e6",
           "backgroundImage": "none",
           "backgroundSize": "100px 100%",
           "width": "100%"
          }
         },
         "children": [
          {
           "attributes": {
            "scoped": "scoped",
            "type": "text/css"
           },
           "children": [
            "\n                        @keyframes pb-fill-anim {\n                            0% { background-position: 0 0; }\n                            100% { background-position: 100px 0; }\n                        }}"
           ],
           "tagName": "style"
          },
          " "
         ],
         "tagName": "div"
        }
       ],
       "tagName": "div"
      }
     },
     "metadata": {},
     "output_type": "display_data"
    },
    {
     "data": {
      "image/png": "[encoded data removed]",
      "text/plain": [
       "<Figure size 432x288 with 2 Axes>"
      ]
     },
     "metadata": {
      "needs_background": "light"
     },
     "output_type": "display_data"
    },
    {
     "name": "stdout",
     "output_type": "stream",
     "text": [
      "seed = 1\n",
      "n_data = 50\n",
      "dataset_dir = '../davis_io/data'\n",
      "keep_invalid = True\n",
      "task = 'valid'\n",
      "dt = 0.1\n",
      "decay_time = 1.0\n",
      "n_neurons = 2000\n",
      "gabor_size = 11\n",
      "reg = 0.03\n",
      "test_on_odd = False\n",
      "rmse_test = 0.5472941753932022\n",
      "rmse_train = 0.07070061861838746\n"
     ]
    },
    {
     "data": {
      "text/plain": [
       "{'rmse_train': 0.07070061861838746, 'rmse_test': 0.5472941753932022}"
      ]
     },
     "execution_count": 117,
     "metadata": {},
     "output_type": "execute_result"
    }
   ],
   "source": [
    "TrackingTrial().run(dt=0.1, n_data=50, plt=True, decay_time=1.0, test_on_odd=False, n_neurons=2000)"
   ]
  },
  {
   "cell_type": "code",
   "execution_count": null,
   "metadata": {},
   "outputs": [],
   "source": []
  },
  {
   "cell_type": "code",
   "execution_count": null,
   "metadata": {},
   "outputs": [],
   "source": []
  },
  {
   "cell_type": "code",
   "execution_count": null,
   "metadata": {},
   "outputs": [],
   "source": []
  }
 ],
 "metadata": {
  "kernelspec": {
   "display_name": "Python 3",
   "language": "python",
   "name": "python3"
  },
  "language_info": {
   "codemirror_mode": {
    "name": "ipython",
    "version": 3
   },
   "file_extension": ".py",
   "mimetype": "text/x-python",
   "name": "python",
   "nbconvert_exporter": "python",
   "pygments_lexer": "ipython3",
   "version": "3.6.7"
  }
 },
 "nbformat": 4,
 "nbformat_minor": 2
}
